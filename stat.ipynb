{
 "cells": [
  {
   "cell_type": "code",
   "execution_count": 18,
   "metadata": {},
   "outputs": [],
   "source": [
    "import statistics as stat\n",
    "import numpy as np\n",
    "import pandas as pd"
   ]
  },
  {
   "cell_type": "code",
   "execution_count": 19,
   "metadata": {},
   "outputs": [],
   "source": [
    "data = pd.read_csv('diabetes.csv')\n",
    "glucose = data['Glucose']\n"
   ]
  },
  {
   "cell_type": "code",
   "execution_count": 28,
   "metadata": {},
   "outputs": [
    {
     "name": "stdout",
     "output_type": "stream",
     "text": [
      "Mean= 120.89453125\n",
      "Median= 117.0\n",
      "Mode= 100\n",
      "Variance= 1022.2483142519557\n"
     ]
    }
   ],
   "source": [
    "g_mean = stat.mean(glucose)\n",
    "g_median = stat.median(glucose)\n",
    "g_mode = stat.mode(glucose)\n",
    "g_var = stat.variance(glucose)\n",
    "print('Mean=',g_mean)\n",
    "print('Median=',g_median)\n",
    "print('Mode=',g_mode)\n",
    "print('Variance=',g_var)"
   ]
  },
  {
   "cell_type": "code",
   "execution_count": 32,
   "metadata": {},
   "outputs": [
    {
     "name": "stdout",
     "output_type": "stream",
     "text": [
      "Quantiles= [99.0, 117.0, 140.75]\n",
      "Standard Deviation =  31.97261819513622\n"
     ]
    }
   ],
   "source": [
    "g_qua = stat.quantiles(glucose)\n",
    "print('Quantiles=',g_qua)\n",
    "g_std = stat.stdev(glucose)\n",
    "print('Standard Deviation = ',g_std)"
   ]
  },
  {
   "cell_type": "code",
   "execution_count": 31,
   "metadata": {},
   "outputs": [
    {
     "name": "stdout",
     "output_type": "stream",
     "text": [
      "[100, 99]\n"
     ]
    }
   ],
   "source": [
    "g_mulmode = stat.multimode(glucose)\n",
    "print(g_mulmode)"
   ]
  },
  {
   "cell_type": "code",
   "execution_count": 1,
   "metadata": {},
   "outputs": [
    {
     "name": "stdout",
     "output_type": "stream",
     "text": [
      "Mode(s): [50]\n"
     ]
    }
   ],
   "source": [
    "# Sample data\n",
    "data = [10, 20, 20, 30, 40, 50, 50, 50]\n",
    "\n",
    "# Step 1: Create a dictionary to count the frequency of each element\n",
    "frequency_dict = {}\n",
    "for item in data:\n",
    "    if item in frequency_dict:\n",
    "        frequency_dict[item] += 1\n",
    "    else:\n",
    "        frequency_dict[item] = 1\n",
    "\n",
    "# Step 2: Find the maximum frequency\n",
    "max_frequency = max(frequency_dict.values())\n",
    "\n",
    "# Step 3: Identify all elements with the maximum frequency\n",
    "modes = [key for key, value in frequency_dict.items() if value == max_frequency]\n",
    "\n",
    "print(\"Mode(s):\", modes)"
   ]
  }
 ],
 "metadata": {
  "kernelspec": {
   "display_name": "Python 3",
   "language": "python",
   "name": "python3"
  },
  "language_info": {
   "codemirror_mode": {
    "name": "ipython",
    "version": 3
   },
   "file_extension": ".py",
   "mimetype": "text/x-python",
   "name": "python",
   "nbconvert_exporter": "python",
   "pygments_lexer": "ipython3",
   "version": "3.11.4"
  }
 },
 "nbformat": 4,
 "nbformat_minor": 2
}
