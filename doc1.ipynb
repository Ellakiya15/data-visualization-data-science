{
 "cells": [
  {
   "cell_type": "markdown",
   "metadata": {},
   "source": [
    "### Sorting random 10 numbers in ascending order "
   ]
  },
  {
   "cell_type": "code",
   "execution_count": 8,
   "metadata": {},
   "outputs": [
    {
     "name": "stdout",
     "output_type": "stream",
     "text": [
      "Please enter 10 numbers:\n",
      "The numbers in ascending order are:\n",
      "1.0\n",
      "2.0\n",
      "3.0\n",
      "4.0\n",
      "5.0\n",
      "6.0\n",
      "7.0\n",
      "8.0\n",
      "9.0\n",
      "10.0\n"
     ]
    }
   ],
   "source": [
    "# Function to get 10 numbers from the user and sort them in ascending order\n",
    "def get_and_sort_numbers():\n",
    "    # Initialize an empty list to store the numbers\n",
    "    numbers = []\n",
    "    print(\"Please enter 10 numbers:\")\n",
    "\n",
    "    # Loop to get 10 numbers from the user\n",
    "    for i in range(10):\n",
    "        num = float(input(f\"Enter number {i + 1}: \"))\n",
    "        numbers.append(num)\n",
    "\n",
    "    # Sort the numbers in ascending order\n",
    "    numbers.sort()\n",
    "\n",
    "    # Print the sorted numbers\n",
    "    print(\"The numbers in ascending order are:\")\n",
    "    for num in numbers:\n",
    "        print(num)\n",
    "\n",
    "# Main program\n",
    "if __name__ == \"__main__\":\n",
    "    get_and_sort_numbers()\n"
   ]
  },
  {
   "cell_type": "markdown",
   "metadata": {},
   "source": [
    "### Displaying temperature as per the required city and displaying overall hottest city with temperature"
   ]
  },
  {
   "cell_type": "code",
   "execution_count": 6,
   "metadata": {},
   "outputs": [
    {
     "name": "stdout",
     "output_type": "stream",
     "text": [
      "The temperature in Ooty is 20°C.\n",
      "The hottest city is Chennai with a temperature of 45°C.\n"
     ]
    }
   ],
   "source": [
    "# Dictionary containing city names and their corresponding temperatures\n",
    "city_temp = {\n",
    "    \"chennai\": 45,\n",
    "    \"coimbatore\": 30,\n",
    "    \"ooty\": 20,\n",
    "    \"karur\": 35,\n",
    "    \"salem\": 33,\n",
    "    \"theni\": 40,\n",
    "    \"madurai\": 42\n",
    "}\n",
    "\n",
    "# Function to find and print the temperature of a requested city\n",
    "def get_city_temperature(city):\n",
    "    city = city.lower()  # Convert input to lowercase to handle case sensitivity\n",
    "    if city in city_temp:\n",
    "        print(f\"The temperature in {city.cap()} is {city_temp[city]}°C.\")\n",
    "    else:\n",
    "        print(f\"Sorry, the temperature for \n",
    "              {city} is not available in the dataset.\")\n",
    "\n",
    "# Function to find and print the hottest city\n",
    "def get_hottest_city():\n",
    "    hottest = max(city_temp, key=city_temp.get)\n",
    "    print(f\"The hottest city is {hottest.cap()} with a \n",
    "          temperature of {city_temp[hottest]}°C.\")\n",
    "\n",
    "# Main program\n",
    "user_city = input(\"Enter the city name to get its temperature: \")\n",
    "get_city_temperature(user_city)\n",
    "get_hottest_city()\n"
   ]
  },
  {
   "cell_type": "markdown",
   "metadata": {},
   "source": [
    "### Finding the area of the circle using function"
   ]
  },
  {
   "cell_type": "code",
   "execution_count": 9,
   "metadata": {},
   "outputs": [
    {
     "name": "stdout",
     "output_type": "stream",
     "text": [
      "Radius of the circle is  2\n",
      "Area:\n",
      "12.56\n"
     ]
    }
   ],
   "source": [
    "#finding the area of the circle using function\n",
    "def area(r):\n",
    "  area = 3.14*r*r\n",
    "  return area\n",
    "r = int(input(\"Enter the radius of the circle:\"))\n",
    "print('Radius of the circle is ',r)\n",
    "print('Area:')\n",
    "print(area(r))"
   ]
  }
 ],
 "metadata": {
  "kernelspec": {
   "display_name": "Python 3",
   "language": "python",
   "name": "python3"
  },
  "language_info": {
   "codemirror_mode": {
    "name": "ipython",
    "version": 3
   },
   "file_extension": ".py",
   "mimetype": "text/x-python",
   "name": "python",
   "nbconvert_exporter": "python",
   "pygments_lexer": "ipython3",
   "version": "3.11.4"
  }
 },
 "nbformat": 4,
 "nbformat_minor": 2
}
